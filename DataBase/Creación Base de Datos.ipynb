{
 "cells": [
  {
   "cell_type": "code",
   "execution_count": 1,
   "id": "6223ec05",
   "metadata": {},
   "outputs": [
    {
     "name": "stdout",
     "output_type": "stream",
     "text": [
      "Requirement already satisfied: mysql-connector-python in c:\\users\\oriana ampuero\\anaconda3\\lib\\site-packages (8.0.29)\n",
      "Requirement already satisfied: protobuf>=3.0.0 in c:\\users\\oriana ampuero\\anaconda3\\lib\\site-packages (from mysql-connector-python) (4.21.1)\n",
      "Note: you may need to restart the kernel to use updated packages.\n"
     ]
    }
   ],
   "source": [
    "%pip install mysql-connector-python"
   ]
  },
  {
   "cell_type": "code",
   "execution_count": 5,
   "id": "a96c209e",
   "metadata": {},
   "outputs": [],
   "source": [
    "import mysql.connector as conn"
   ]
  },
  {
   "cell_type": "code",
   "execution_count": 6,
   "id": "9cdecf73",
   "metadata": {},
   "outputs": [],
   "source": [
    "# crear una base de datos\n",
    "\n",
    "crea_db=conn.connect(host='localhost', user='root', passwd= 'Oriana.123')\n",
    "cursor=crea_db.cursor()\n",
    "\n",
    "cursor.execute('drop database if exists movies;')\n",
    "cursor.execute('create database movies;')"
   ]
  },
  {
   "cell_type": "code",
   "execution_count": 8,
   "id": "4831d6c7",
   "metadata": {},
   "outputs": [],
   "source": [
    "# conectar a base de datos\n",
    "\n",
    "db=conn.connect(host='localhost', user='root', passwd= 'Oriana.123', database='movies')\n",
    "cursor=db.cursor()"
   ]
  },
  {
   "cell_type": "code",
   "execution_count": 9,
   "id": "0791e967",
   "metadata": {},
   "outputs": [],
   "source": [
    "# crear tabla\n",
    "\n",
    "cursor.execute('drop table if exists film;')\n",
    "\n",
    "tabla='''\n",
    "\n",
    "        create table film(\n",
    "        \n",
    "            film_id int primary key not null,\n",
    "            tittle varchar(50),\n",
    "            description varchar(50),\n",
    "            release_year int,\n",
    "            lenguage_id int,\n",
    "            rental_duratin int,\n",
    "            rental_rate float,\n",
    "            replacement_cost float,\n",
    "            special_features varchar (500)\n",
    "        );\n",
    "\n",
    "\n",
    "'''\n",
    "\n",
    "\n",
    "cursor.execute(tabla)"
   ]
  },
  {
   "cell_type": "code",
   "execution_count": 10,
   "id": "c2368f15",
   "metadata": {},
   "outputs": [],
   "source": [
    "cursor.execute('drop table if exists category;')\n",
    "\n",
    "tabla='''\n",
    "\n",
    "        create table category(\n",
    "        \n",
    "            category_id int primary key not null,\n",
    "            name varchar (25)\n",
    "        );\n",
    "\n",
    "\n",
    "'''\n",
    "\n",
    "\n",
    "cursor.execute(tabla)"
   ]
  },
  {
   "cell_type": "code",
   "execution_count": 11,
   "id": "7242ec60",
   "metadata": {},
   "outputs": [],
   "source": [
    "cursor.execute('drop table if exists rental;')\n",
    "\n",
    "tabla='''\n",
    "\n",
    "        create table rental(\n",
    "        \n",
    "            rental_id int primary key not null,\n",
    "            rental_date datetime, \n",
    "            inventory_id int,\n",
    "            return_date datetime\n",
    "        );\n",
    "\n",
    "\n",
    "'''\n",
    "\n",
    "\n",
    "cursor.execute(tabla)"
   ]
  },
  {
   "cell_type": "code",
   "execution_count": 12,
   "id": "6538145a",
   "metadata": {},
   "outputs": [],
   "source": [
    "cursor.execute('drop table if exists inventory;')\n",
    "\n",
    "tabla='''\n",
    "\n",
    "        create table inventory(\n",
    "        \n",
    "            inventory_id int primary key not null,\n",
    "            film_id int, \n",
    "            store_id int\n",
    "        );\n",
    "\n",
    "\n",
    "'''\n",
    "\n",
    "\n",
    "cursor.execute(tabla)"
   ]
  },
  {
   "cell_type": "code",
   "execution_count": 13,
   "id": "8d34a10a",
   "metadata": {},
   "outputs": [],
   "source": [
    "cursor.execute('drop table if exists language;')\n",
    "\n",
    "tabla='''\n",
    "\n",
    "        create table language(\n",
    "        \n",
    "            language_id int primary key not null,\n",
    "            name varchar (45)\n",
    "        );\n",
    "\n",
    "\n",
    "'''\n",
    "\n",
    "\n",
    "cursor.execute(tabla)"
   ]
  },
  {
   "cell_type": "code",
   "execution_count": 14,
   "id": "1c5ffe05",
   "metadata": {},
   "outputs": [],
   "source": [
    "cursor.execute('drop table if exists actor;')\n",
    "\n",
    "tabla='''\n",
    "\n",
    "        create table actor(\n",
    "        \n",
    "            actor_id int primary key not null,\n",
    "            first_name varchar (45),\n",
    "            last_name varchar (45)\n",
    "        );\n",
    "\n",
    "\n",
    "'''\n",
    "\n",
    "\n",
    "cursor.execute(tabla)"
   ]
  },
  {
   "cell_type": "code",
   "execution_count": 15,
   "id": "45ae0693",
   "metadata": {},
   "outputs": [],
   "source": [
    "cursor.execute('drop table if exists language;')\n",
    "\n",
    "tabla='''\n",
    "\n",
    "        create table language(\n",
    "        \n",
    "            language_id int primary key not null,\n",
    "            name varchar (45)\n",
    "        );\n",
    "\n",
    "\n",
    "'''\n",
    "\n",
    "\n",
    "cursor.execute(tabla)"
   ]
  },
  {
   "cell_type": "code",
   "execution_count": 16,
   "id": "96bd9cc5",
   "metadata": {},
   "outputs": [],
   "source": [
    "cursor.execute('drop table if exists old_hdd;')\n",
    "\n",
    "tabla='''\n",
    "\n",
    "        create table old_hdd(\n",
    "        \n",
    "            first_name varchar (45),\n",
    "            last_name varchar (45),\n",
    "            tittle varchar (45),\n",
    "            release_year int,\n",
    "            category_id int\n",
    "        );\n",
    "\n",
    "\n",
    "'''\n",
    "\n",
    "\n",
    "cursor.execute(tabla)"
   ]
  },
  {
   "cell_type": "code",
   "execution_count": null,
   "id": "8f4a9e65",
   "metadata": {},
   "outputs": [],
   "source": []
  }
 ],
 "metadata": {
  "kernelspec": {
   "display_name": "Python 3 (ipykernel)",
   "language": "python",
   "name": "python3"
  },
  "language_info": {
   "codemirror_mode": {
    "name": "ipython",
    "version": 3
   },
   "file_extension": ".py",
   "mimetype": "text/x-python",
   "name": "python",
   "nbconvert_exporter": "python",
   "pygments_lexer": "ipython3",
   "version": "3.9.7"
  }
 },
 "nbformat": 4,
 "nbformat_minor": 5
}
